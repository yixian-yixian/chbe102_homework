{
 "cells": [
  {
   "cell_type": "markdown",
   "metadata": {},
   "source": [
    "###### Exam 1 Problem 6: Ethylene to aromatics"
   ]
  },
  {
   "cell_type": "code",
   "execution_count": 40,
   "metadata": {},
   "outputs": [],
   "source": [
    "# Import packages\n",
    "import numpy as np\n",
    "import matplotlib.pyplot as plt\n",
    "from scipy.integrate import solve_ivp"
   ]
  },
  {
   "cell_type": "code",
   "execution_count": 99,
   "metadata": {},
   "outputs": [],
   "source": [
    "# Define differential equations for reactor\n",
    "\n",
    "def diff(t,U):\n",
    "    \n",
    "    # Assign U to dependent variables\n",
    "    F_E = U[0]\n",
    "    F_O = U[1]\n",
    "    F_B = U[2]\n",
    "    F_H = U[3]\n",
    "    F_W = U[4]\n",
    "    F_I = U[5]\n",
    "    \n",
    "    # Misc calculations\n",
    "    F = F_E + F_O + F_B + F_H + F_W + F_I\n",
    "    T = 823 # K\n",
    "    P = 4 # atm \n",
    "    v = (R * F * T)/P #ideal gas\n",
    "    C_E = F_E/v\n",
    "    C_O = F_O/v\n",
    "    C_B = F_B/v\n",
    "    C_H = F_H/v\n",
    "    C_W = F_W/v\n",
    "    C_I = F_I/v\n",
    "    QC = (C_O * C_B**3 * C_H**3)/(C_E**10)\n",
    "    \n",
    "    # Rate calculations\n",
    "    r = kf * C_E * (1 - QC/KC)\n",
    "    \n",
    "    # Differential equations\n",
    "    dF_E = -10*r\n",
    "    dF_O = r\n",
    "    dF_B = 3*r\n",
    "    dF_H = 3*r\n",
    "    dF_W = 0\n",
    "    dF_I = 0\n",
    "    \n",
    "    # Assign differential equations to differential array dU\n",
    "    dU=np.zeros(len(U))\n",
    "    dU[0] = dF_E\n",
    "    dU[1] = dF_O\n",
    "    dU[2] = dF_B\n",
    "    dU[3] = dF_H\n",
    "    dU[4] = dF_W\n",
    "    dU[5] = dF_I\n",
    "    \n",
    "    # Reorganize output into\n",
    "    dU = np.array(dU).tolist()\n",
    "    \n",
    "    return dU"
   ]
  },
  {
   "cell_type": "code",
   "execution_count": 100,
   "metadata": {},
   "outputs": [
    {
     "name": "stdout",
     "output_type": "stream",
     "text": [
      "KC: 323151292997.87915\n",
      "0.9042052876047516\n"
     ]
    }
   ],
   "source": [
    "# Specify initial conditions\n",
    "v0 = 40       # L/hr\n",
    "y_E0 = 0.30     # mol/mol\n",
    "y_H0 = 0.05      # mol/mol\n",
    "y_W0 = 0.30      # mol/mol\n",
    "y_I0 = 0.35     # mol/mol\n",
    "P0 = 4    # atm\n",
    "T0 = 823     # K\n",
    "R = 0.082057 # L atm/mol K\n",
    "F0 = P0*v0/R/T0        # mol/hr\n",
    "F_E0 = F0*y_E0      # mol/hr\n",
    "F_H0 = F0*y_H0     # mol/hr\n",
    "F_W0 = F0*y_W0      # mol/hr\n",
    "F_I0 = F0*y_I0     # mol/hr\n",
    "\n",
    "# Specify reaction constants\n",
    "Tref = T0\n",
    "Pref = 1 # atm\n",
    "delta = -3 \n",
    "kf =  0.04       # hr^-1\n",
    "dH = -508.5 #kj/mol\n",
    "dS = -502.6e-3 #kJ/mol*K\n",
    "dG = dH - Tref*dS # kJ/mol\n",
    "Keq = np.exp(-dG/((8.314e-3)*Tref))\n",
    "Kp = Keq*(Pref)**(-delta)\n",
    "KC = Kp*(R*Tref)**(-delta)# (L/mol)^3\n",
    "print(\"KC:\",KC)\n",
    "\n",
    "# Specify initial conditions\n",
    "U0 = [F_E0,0,0,F_H0,F_W0,F_I0]\n",
    "\n",
    "# Specify integration limits\n",
    "Vlim = (0,500)\n",
    "Vlist = np.linspace(Vlim[0],Vlim[1],num=100) # not essential, gives 100 evenly-spaced data points\n",
    "\n",
    "# Run integration\n",
    "solution = solve_ivp(diff,Vlim,U0,t_eval=Vlist)\n",
    "\n",
    "# Interpret output\n",
    "U = solution.y.T\n",
    "V = solution.t\n",
    "F_E = U[:,0]\n",
    "F_O = U[:,1]\n",
    "F_B = U[:,2]\n",
    "F_H = U[:,3]\n",
    "F_W = U[:,4]\n",
    "F_I = U[:,5]\n",
    "\n",
    "X_E = (F_E0-F_E)/F_E0\n",
    "\n",
    "# Display conversion at reactor outlet\n",
    "print(X_E[-1])"
   ]
  },
  {
   "cell_type": "code",
   "execution_count": 101,
   "metadata": {
    "code_folding": []
   },
   "outputs": [
    {
     "data": {
      "image/png": "[encoded data removed]",
      "text/plain": [
       "<Figure size 432x288 with 2 Axes>"
      ]
     },
     "metadata": {
      "needs_background": "light"
     },
     "output_type": "display_data"
    }
   ],
   "source": [
    "# Plot data\n",
    "fig = plt.figure()\n",
    "ax1 = plt.subplot(121)\n",
    "ax2 = plt.subplot(122)\n",
    "\n",
    "ax1.plot(V,F_E,'-.k')\n",
    "ax1.plot(V,F_O,'--b')\n",
    "ax1.plot(V,F_B,'-y')\n",
    "ax1.plot(V,F_H,':m')\n",
    "ax1.legend(['ethylene','o-xylene','butene','hydrogen'])\n",
    "ax1.set_xlabel('Volume ($L$)')\n",
    "ax1.set_ylabel('Molar flow rate ($mol/hr$)')\n",
    "\n",
    "ax2.plot(V,X_E,'b')\n",
    "ax2.set_xlabel('Volume ($L$)')\n",
    "ax2.set_ylabel('Conversion')\n",
    "\n",
    "fig.tight_layout()\n",
    "plt.show()\n",
    "\n",
    "# As the volume increases, the molar flow rates of hydrogen, o-xylene, and butene increases \n",
    "# until it plateaus. The conversion rate also reaches the optimal rate and plateaus after \n",
    "# the volume has reached a certain value."
   ]
  },
  {
   "cell_type": "code",
   "execution_count": null,
   "metadata": {},
   "outputs": [],
   "source": []
  },
  {
   "cell_type": "code",
   "execution_count": null,
   "metadata": {},
   "outputs": [],
   "source": []
  }
 ],
 "metadata": {
  "kernelspec": {
   "display_name": "Python 3 (ipykernel)",
   "language": "python",
   "name": "python3"
  },
  "language_info": {
   "codemirror_mode": {
    "name": "ipython",
    "version": 3
   },
   "file_extension": ".py",
   "mimetype": "text/x-python",
   "name": "python",
   "nbconvert_exporter": "python",
   "pygments_lexer": "ipython3",
   "version": "3.9.6"
  },
  "varInspector": {
   "cols": {
    "lenName": 16,
    "lenType": 16,
    "lenVar": 40
   },
   "kernels_config": {
    "python": {
     "delete_cmd_postfix": "",
     "delete_cmd_prefix": "del ",
     "library": "var_list.py",
     "varRefreshCmd": "print(var_dic_list())"
    },
    "r": {
     "delete_cmd_postfix": ") ",
     "delete_cmd_prefix": "rm(",
     "library": "var_list.r",
     "varRefreshCmd": "cat(var_dic_list()) "
    }
   },
   "types_to_exclude": [
    "module",
    "function",
    "builtin_function_or_method",
    "instance",
    "_Feature"
   ],
   "window_display": false
  }
 },
 "nbformat": 4,
 "nbformat_minor": 4
}
