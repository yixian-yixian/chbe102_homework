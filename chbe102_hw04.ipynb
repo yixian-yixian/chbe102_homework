{
 "cells": [
  {
   "cell_type": "markdown",
   "id": "944e2773",
   "metadata": {},
   "source": [
    "# Problem 3"
   ]
  },
  {
   "cell_type": "code",
   "execution_count": null,
   "id": "84a40148",
   "metadata": {},
   "outputs": [],
   "source": [
    "# problem 3.1"
   ]
  },
  {
   "cell_type": "markdown",
   "id": "59b99997",
   "metadata": {},
   "source": [
    "The reactor in the problem is examined in an IMRCF. \n",
    "$$ A(g)+B(g) \\rightleftharpoons C(g) + D(g)$$\n",
    "D selectively permeates through the membrane at the rate  $$R_D = k_d \\cdot CD $$\n",
    "The following code is adapted from the provided IMRCF codes on canvas. \n",
    "- For Total Concentration (y-axis) vs Catalyst Mass (x-axis) $$ C_j = \\frac{F_j}{F}*C_0 $$\n",
    "- The total molar flow rate is adapted from the provided code"
   ]
  },
  {
   "cell_type": "code",
   "execution_count": 3,
   "id": "a55c7abc",
   "metadata": {},
   "outputs": [],
   "source": [
    "# Import packages\n",
    "import numpy as np\n",
    "import matplotlib.pyplot as plt\n",
    "from scipy.integrate import solve_ivp\n",
    "from scipy.stats import linregress\n",
    "import pandas as pd"
   ]
  },
  {
   "cell_type": "code",
   "execution_count": 4,
   "id": "593a4048",
   "metadata": {},
   "outputs": [],
   "source": [
    "# Provided by Professor Eagan\n",
    "def diff(t,U):\n",
    "    \n",
    "    # Specify identity of each U for clarity\n",
    "    FA = U[0] # volumetric feed of CO\n",
    "    FB = U[1] # volumetric feed of H2O\n",
    "    FC = U[2] # volumetric feed of CO2\n",
    "    FD = U[3] # volumetric feed of H2\n",
    "    \n",
    "    # Perform calculations\n",
    "    F = FA + FB + FC + FD\n",
    "    C = C0\n",
    "    \n",
    "    # Concentration \n",
    "    CA = FA/F*C # CO\n",
    "    CB = FB/F*C # H2O\n",
    "    CC = FC/F*C # CO2\n",
    "    CD = FD/F*C # H2\n",
    "    QC = CD*CC/(CA*CB)\n",
    "    r = kf*(CA*CB)*(1-QC/KC)  # technically written as -rA\n",
    "    \n",
    "    # Define derivatives\n",
    "    dFA = -r # flip sign forwards \n",
    "    dFB = -r\n",
    "    dFC = r # retain negative for backwards \n",
    "    dFD = r - kH2*CD # accounting for permeations\n",
    "    \n",
    "    #Populate derivatives array\n",
    "    dU=np.zeros(len(U))\n",
    "    dU[0] = dFA\n",
    "    dU[1] = dFB\n",
    "    dU[2] = dFC\n",
    "    dU[3] = dFD\n",
    "    \n",
    "    # Reorganize list to fit required dimensions \n",
    "    dU = np.array(dU).tolist()\n",
    "    \n",
    "    return dU"
   ]
  },
  {
   "cell_type": "code",
   "execution_count": 5,
   "id": "13849055",
   "metadata": {},
   "outputs": [],
   "source": [
    "# Specifications\n",
    "P0 = 101.325 #kPa\n",
    "R = 8.314  #kPa L / mol K\n",
    "kf = 1.37    #L^2/mol kg min\n",
    "KC = 1.44  #mol/L # EQUILIBRIUM constant\n",
    "kH2 = 0.1   #L/kg min^-1 \n",
    "# Initial Concentration\n",
    "C0 = 0.4   #mol/dm^3\n",
    "FA0 = 10*C0/2   #dm^3/min\n",
    "# DOUBLE THE FLOW RATE HERE\n",
    "# FA0 = 2*FA0\n",
    "FB0 = FA0\n",
    "# Set initial conditions\n",
    "U0 = [FA0, FB0, 0,0]\n",
    "\n",
    "# Determine integration limits\n",
    "tlim = (0,100)\n",
    "tlist = np.linspace(tlim[0],tlim[1],num=100) \n",
    "\n"
   ]
  },
  {
   "cell_type": "code",
   "execution_count": 7,
   "id": "74d41df8",
   "metadata": {},
   "outputs": [
    {
     "data": {
      "image/png": "[encoded data removed]",
      "text/plain": [
       "<Figure size 432x288 with 2 Axes>"
      ]
     },
     "metadata": {
      "needs_background": "light"
     },
     "output_type": "display_data"
    }
   ],
   "source": [
    "# Integrate\n",
    "solution = solve_ivp(diff,tlim,U0,t_eval=tlist)\n",
    "\n",
    "# Obtain ouputs and times\n",
    "U = solution.y.T\n",
    "W = solution.t\n",
    "FA = U[:,0]\n",
    "FB = U[:,1]\n",
    "FC = U[:,2]\n",
    "FD = U[:,3]\n",
    "FT = FA + FB + FC + FD\n",
    "\n",
    "CA = FA/FT*C0\n",
    "CB = FB/FT*C0\n",
    "CC = FC/FT*C0\n",
    "CD = FD/FT*C0\n",
    "CT = FT/FT*C0\n",
    "\n",
    "# Plot data\n",
    "fig = plt.figure()\n",
    "ax1 = plt.subplot(121)\n",
    "# Since the reactants are equimolar entering at the same concentration\n",
    "# it is reasonable to identify an overlap in the reactant A and B lines\n",
    "ax1.plot(W,FA,'b')\n",
    "# ax1.plot(W,FB,'g')\n",
    "ax1.plot(W,FC,\"r\")\n",
    "ax1.plot(W,FD,'c')\n",
    "ax1.plot(W,FT, \"m\")\n",
    "ax1.legend(['A and B','C','D','Total'])\n",
    "ax1.set_xlabel('Catalyst mass (kg)')\n",
    "ax1.set_ylabel('Fj (mol/min)')\n",
    "ax1.set_title('Molar flow rates at Keq')\n",
    "\n",
    "ax2 = plt.subplot(122)\n",
    "ax2.plot(W,CA,'b')\n",
    "# ax2.plot(W,CB,'g')\n",
    "ax2.plot(W,CC,\"r\")\n",
    "ax2.plot(W,CD,'c')\n",
    "ax2.plot(W,CT,'m')\n",
    "ax2.legend(['A and B','C','D','Total'])\n",
    "ax2.set_xlabel('Catalyst mass (kg)')\n",
    "ax2.set_ylabel('Cj (mol/dm^3)')\n",
    "ax2.set_title('Concentrations at Keq')\n",
    "\n",
    "\n",
    "fig.tight_layout()\n",
    "plt.show()"
   ]
  },
  {
   "cell_type": "markdown",
   "id": "aa7df9a3",
   "metadata": {},
   "source": [
    "# Problem 4"
   ]
  },
  {
   "cell_type": "code",
   "execution_count": 320,
   "id": "9c76646b",
   "metadata": {},
   "outputs": [],
   "source": [
    "from scipy.stats import linregress\n",
    "import math"
   ]
  },
  {
   "cell_type": "code",
   "execution_count": 321,
   "id": "8b9d5ceb",
   "metadata": {},
   "outputs": [
    {
     "name": "stdout",
     "output_type": "stream",
     "text": [
      "n is 1.42093 and therefore the reaction order is 2\n"
     ]
    }
   ],
   "source": [
    "# Problem 4.1\n",
    "t = np.array([0,5,9,15,22,30,40,60])\n",
    "CA = np.array([2,1.6,1.35,1.1,0.87,0.70,0.53,0.35])\n",
    "\n",
    "deltat = np.diff(t)\n",
    "deltaC = np.diff(CA)\n",
    "negCA_t = np.multiply(deltaC, -1)/deltat\n",
    "nat_lgCA = np.log(CA)\n",
    "x_axis = np.delete(nat_lgCA,0) # omit first index\n",
    "y_axis = np.log(negCA_t)\n",
    "\n",
    "slope, intercept, r_value, p_value, std_err = linregress(x_axis, nat_negCA_t)\n",
    "print(\"n is {:.5f} and therefore the reaction order is\".format(slope), math.ceil(slope))\n"
   ]
  },
  {
   "cell_type": "code",
   "execution_count": 322,
   "id": "e963a9c8",
   "metadata": {},
   "outputs": [
    {
     "data": {
      "image/png": "[encoded data removed]",
      "text/plain": [
       "<Figure size 432x288 with 1 Axes>"
      ]
     },
     "metadata": {
      "needs_background": "light"
     },
     "output_type": "display_data"
    },
    {
     "name": "stdout",
     "output_type": "stream",
     "text": [
      "y1 = 0.03902x + -0.12075\n",
      "R^2 =0.993\n"
     ]
    },
    {
     "data": {
      "image/png": "[encoded data removed]",
      "text/plain": [
       "<Figure size 432x288 with 1 Axes>"
      ]
     },
     "metadata": {
      "needs_background": "light"
     },
     "output_type": "display_data"
    },
    {
     "name": "stdout",
     "output_type": "stream",
     "text": [
      "y2 = 0.02894x + 0.11625\n",
      "R^2 = 0.991\n"
     ]
    }
   ],
   "source": [
    "# Problem 4.2\n",
    "\n",
    "CA0 = CA[0] # mol/dm^3\n",
    "x_axis = t\n",
    "y_axis = 1/CA - 1/CA0\n",
    "\n",
    "# Second Order\n",
    "nA_pos = round(slope + 0.5)\n",
    "fig = plt.figure()\n",
    "ax1 = plt.subplot(111)\n",
    "ax1.plot(x_axis, y_axis,\"p\")\n",
    "slope1, intercept1, r1_value, p1_value, std_err1 = linregress(x_axis, y_axis)\n",
    "ax1.plot(x_axis, slope1*x_axis,'--')\n",
    "ax1.legend([\"actual data\",\"linear approximation\"])\n",
    "ax1.set_xlabel('t (min)')\n",
    "ax1.set_ylabel('CA0 - Ca (M)')\n",
    "ax1.set_title('2nd order at nA + 0.5')\n",
    "\n",
    "plt.show()\n",
    "print(\"y1 = {:.5f}x + {:.5f}\".format(slope1, intercept1))\n",
    "print(\"R^2 ={:.3f}\".format(r1_value))\n",
    "\n",
    "# First Order\n",
    "nA_neg = round(slope)\n",
    "ax2 = plt.subplot(111)\n",
    "y_axis = np.log(CA0/CA)\n",
    "ax2.plot(x_axis, y_axis,\"p\")\n",
    "slope2, intercept2, r2_value, p2_value, std_err2 = linregress(x_axis, y_axis)\n",
    "ax2.plot(x_axis, x_axis*slope2, '--')\n",
    "ax2.legend([\"actual data\",\"linear approximation\"])\n",
    "ax2.set_xlabel('t (min)')\n",
    "ax2.set_ylabel('ln(CA/CA0) (M)')\n",
    "ax2.set_title('1st order at nA - 0.5')\n",
    "\n",
    "plt.show()\n",
    "print(\"y2 = {:.5f}x + {:.5f}\".format(slope2, intercept2))\n",
    "print(\"R^2 = {:.3f}\".format(r2_value))\n"
   ]
  },
  {
   "cell_type": "code",
   "execution_count": 323,
   "id": "dcca89b4",
   "metadata": {},
   "outputs": [],
   "source": [
    "# Problem 4.3\n",
    "from scipy.optimize import curve_fit\n",
    "from scipy.stats.distributions import t as tdist"
   ]
  },
  {
   "cell_type": "code",
   "execution_count": 324,
   "id": "a847c117",
   "metadata": {},
   "outputs": [],
   "source": [
    "# Model \n",
    "def model(x,*parameters):\n",
    "    \n",
    "    # Indepdendent variables\n",
    "    CA = x\n",
    "    ndtps = len(CA)\n",
    "    \n",
    "    # Parameters to be fit\n",
    "    k = parameters[0]\n",
    "    nA = parameters[1]\n",
    "    \n",
    "    # Calculate output value for each data point based on a model\n",
    "    time_model = np.zeros(ndpts)\n",
    "    for i in range(ndpts):\n",
    "        time_model[i] = (-1/k)*(((CA[i]**(1-nA))/(1-nA))-(2**(1-nA))/(1-nA))  # Manually write the rate expression\n",
    "    return time_model"
   ]
  },
  {
   "cell_type": "code",
   "execution_count": 325,
   "id": "74d5825d",
   "metadata": {},
   "outputs": [],
   "source": [
    "# Data ()\n",
    "# see line 186 in Problem 4.1\n",
    "ndpts = len(t)\n",
    "\n",
    "# Parameter Guess\n",
    "k_g = 0.0390\n",
    "na_g = slope\n",
    "guess = ([k_g, na_g])\n",
    "npars = len(guess)"
   ]
  },
  {
   "cell_type": "code",
   "execution_count": 326,
   "id": "713ce5f7",
   "metadata": {},
   "outputs": [
    {
     "name": "stdout",
     "output_type": "stream",
     "text": [
      "SSR = 4.978e-01\n",
      "\n",
      "     Value  95% CI Half Width  95% CI Half Width Rel %\n",
      "k   0.033              0.000                    0.956\n",
      "nA  1.515              0.038                    2.487 \n",
      "\n"
     ]
    }
   ],
   "source": [
    "# Regressions\n",
    "xvars = CA\n",
    "popt,pcov = curve_fit(model,xvars,t,guess,method='lm')\n",
    "\n",
    "# Confidence intervals\n",
    "alpha = 0.05 # 95% confidence interval\n",
    "dof = max(0,ndpts-npars) # number of degrees of freedom\n",
    "tval = tdist.ppf(1.0-alpha/2.0,dof) # student t value for the dof and confidence level\n",
    "\n",
    "ci = np.zeros([npars,2])\n",
    "for i,p,var in zip(range(ndpts),popt,np.diag(pcov)):\n",
    "    sigma = var**0.5\n",
    "    ci[i,:] = [p-sigma*tval,p+sigma*tval]\n",
    "ci_width = ci[:,1]-ci[:,0]\n",
    "\n",
    "# Create output dataframe\n",
    "param_names = ['k','nA']\n",
    "k, nA = popt\n",
    "soln = pd.DataFrame(popt,index=param_names,columns=['Value'])\n",
    "soln['95% CI Half Width'] = ci_width/2\n",
    "soln['95% CI Half Width Rel %'] = ci_width/2/popt*100\n",
    "\n",
    "# Generate matrix containing simulated rates and calculate the sum of squared residuals (ssr)\n",
    "time_predict = np.zeros(ndpts)\n",
    "ssr = 0\n",
    "for i in range(ndpts):\n",
    "    time_predict[i]=(-1/k)*(((CA[i]**(1-nA))/(1-nA))-(2**(1-nA))/(1-nA))\n",
    "    sqr_resid = (time_predict[i]-t[i])**2\n",
    "    ssr = ssr + sqr_resid\n",
    "print('SSR = ' + \"{:.3e}\".format(ssr))\n",
    "\n",
    "pd.options.display.float_format = \"{:,.3f}\".format\n",
    "print('\\n', soln, '\\n')"
   ]
  },
  {
   "cell_type": "code",
   "execution_count": 327,
   "id": "43e62810",
   "metadata": {},
   "outputs": [
    {
     "data": {
      "image/png": "[encoded data removed]",
      "text/plain": [
       "<Figure size 432x288 with 1 Axes>"
      ]
     },
     "metadata": {
      "needs_background": "light"
     },
     "output_type": "display_data"
    }
   ],
   "source": [
    "## Parity plots\n",
    "\n",
    "# Parity line\n",
    "x_parity = [min([min(t),min(time_predict)]),max([max(t),max(time_predict)])]\n",
    "y_parity = [min([min(t),min(time_predict)]),max([max(t),max(time_predict)])]\n",
    "    \n",
    "# Plot data\n",
    "fig = plt.figure()\n",
    "ax1 = plt.subplot(111)\n",
    "\n",
    "ax1.plot(t,time_predict,'ob',mfc='none')\n",
    "ax1.plot(x_parity,y_parity,'--b')\n",
    "ax1.set_xlabel('Experimental Rate')\n",
    "ax1.set_ylabel('Predicted Rate')\n",
    "\n",
    "fig.tight_layout()\n",
    "\n",
    "plt.show()"
   ]
  },
  {
   "cell_type": "code",
   "execution_count": 328,
   "id": "29954d83",
   "metadata": {},
   "outputs": [],
   "source": [
    "# Problem 4.4\n",
    "CA0 = np.arange(1,4.5,0.5,dtype = \"float\")\n",
    "rc = np.array([0.063,0.114,0.182, 0.264,0.353,0.419, 0.528])\n",
    "neg_rA = np.multiply(rc,0.5)\n",
    "nat_rA = np.log(neg_rA)\n",
    "nat_CA0 = np.log(CA0)"
   ]
  },
  {
   "cell_type": "code",
   "execution_count": 329,
   "id": "2cde3df0",
   "metadata": {},
   "outputs": [
    {
     "name": "stdout",
     "output_type": "stream",
     "text": [
      "nA is 1.5433\n",
      "k is 0.0313\n"
     ]
    }
   ],
   "source": [
    "x_axis = nat_CA0\n",
    "y_axis = nat_rA\n",
    "slope4, intercept4, r4_value, p4_value, std_err4 = linregress(x_axis, y_axis)\n",
    "print(\"nA is {:.4f}\".format(slope4))\n",
    "print(\"k is {:.4f}\".format(np.exp(intercept4)))"
   ]
  }
 ],
 "metadata": {
  "kernelspec": {
   "display_name": "Python 3",
   "language": "python",
   "name": "python3"
  },
  "language_info": {
   "codemirror_mode": {
    "name": "ipython",
    "version": 3
   },
   "file_extension": ".py",
   "mimetype": "text/x-python",
   "name": "python",
   "nbconvert_exporter": "python",
   "pygments_lexer": "ipython3",
   "version": "3.8.8"
  }
 },
 "nbformat": 4,
 "nbformat_minor": 5
}
